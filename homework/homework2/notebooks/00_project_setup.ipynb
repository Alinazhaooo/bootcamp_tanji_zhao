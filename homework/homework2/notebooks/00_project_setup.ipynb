{
 "cells": [
  {
   "cell_type": "markdown",
   "id": "00f6d88d-ad2a-4172-ab4d-ed28b429b184",
   "metadata": {},
   "source": [
    "Environment & Config Check"
   ]
  },
  {
   "cell_type": "code",
   "execution_count": 1,
   "id": "e9f817b7-dde0-4f27-aed8-275e17b52bc4",
   "metadata": {},
   "outputs": [
    {
     "name": "stdout",
     "output_type": "stream",
     "text": [
      "API_KEY loaded: True\n",
      "Numpy array: [1 2 3]\n",
      "Sum: 6\n"
     ]
    }
   ],
   "source": [
    "from dotenv import load_dotenv\n",
    "import os\n",
    "import numpy as np\n",
    "\n",
    "# load .env\n",
    "load_dotenv()\n",
    "\n",
    "# check if API_KEY exists\n",
    "api_key = os.getenv(\"API_KEY\")\n",
    "print(\"API_KEY loaded:\", api_key is not None)\n",
    "\n",
    "# small numpy array operation\n",
    "arr = np.array([1, 2, 3])\n",
    "print(\"Numpy array:\", arr)\n",
    "print(\"Sum:\", arr.sum())"
   ]
  },
  {
   "cell_type": "code",
   "execution_count": null,
   "id": "d8a4f114-9500-46bc-84b2-4cce04d99bdc",
   "metadata": {},
   "outputs": [],
   "source": []
  }
 ],
 "metadata": {
  "kernelspec": {
   "display_name": "Python 3 (ipykernel)",
   "language": "python",
   "name": "python3"
  },
  "language_info": {
   "codemirror_mode": {
    "name": "ipython",
    "version": 3
   },
   "file_extension": ".py",
   "mimetype": "text/x-python",
   "name": "python",
   "nbconvert_exporter": "python",
   "pygments_lexer": "ipython3",
   "version": "3.11.13"
  }
 },
 "nbformat": 4,
 "nbformat_minor": 5
}
