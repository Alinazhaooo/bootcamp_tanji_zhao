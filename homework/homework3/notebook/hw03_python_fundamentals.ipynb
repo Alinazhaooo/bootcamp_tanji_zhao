{
 "cells": [
  {
   "cell_type": "markdown",
   "id": "c7fae820-6ecc-4b37-895a-954b6e15bbc6",
   "metadata": {},
   "source": [
    "1. NumPy Operations"
   ]
  },
  {
   "cell_type": "code",
   "execution_count": 4,
   "id": "cdb3f032-31dc-4296-b7d4-7f325b581d99",
   "metadata": {},
   "outputs": [
    {
     "name": "stdout",
     "output_type": "stream",
     "text": [
      "Vectorized execution time: 0.0028448104858398438\n",
      "Loop execution time: 0.10747694969177246\n",
      "Vectorized: [ 1  4  9 16 25]\n",
      "Loop: [np.int64(1), np.int64(4), np.int64(9), np.int64(16), np.int64(25)]\n"
     ]
    }
   ],
   "source": [
    "import numpy as np\n",
    "import time\n",
    "arr = np.arange(1, 1000001)\n",
    "\n",
    "# vectorized\n",
    "start = time.time()\n",
    "squared_vectorized = arr ** 2\n",
    "end = time.time()\n",
    "print(\"Vectorized execution time:\", end - start)\n",
    "\n",
    "# loop\n",
    "start = time.time()\n",
    "squared_loop = []\n",
    "for x in arr:\n",
    "    squared_loop.append(x ** 2)\n",
    "end = time.time()\n",
    "print(\"Loop execution time:\", end - start)\n",
    "\n",
    "# comparison\n",
    "print(\"Vectorized:\", squared_vectorized[:5])\n",
    "print(\"Loop:\", squared_loop[:5])"
   ]
  },
  {
   "cell_type": "markdown",
   "id": "2c9607cf-3f29-405d-89ec-4994ee98bcca",
   "metadata": {},
   "source": [
    "2. Dataset Loading"
   ]
  },
  {
   "cell_type": "code",
   "execution_count": 6,
   "id": "81a89688-e150-437e-a17b-c422f860bdc4",
   "metadata": {},
   "outputs": [
    {
     "name": "stdout",
     "output_type": "stream",
     "text": [
      "<class 'pandas.core.frame.DataFrame'>\n",
      "RangeIndex: 10 entries, 0 to 9\n",
      "Data columns (total 3 columns):\n",
      " #   Column    Non-Null Count  Dtype \n",
      "---  ------    --------------  ----- \n",
      " 0   category  10 non-null     object\n",
      " 1   value     10 non-null     int64 \n",
      " 2   date      10 non-null     object\n",
      "dtypes: int64(1), object(2)\n",
      "memory usage: 372.0+ bytes\n"
     ]
    },
    {
     "data": {
      "text/html": [
       "<div>\n",
       "<style scoped>\n",
       "    .dataframe tbody tr th:only-of-type {\n",
       "        vertical-align: middle;\n",
       "    }\n",
       "\n",
       "    .dataframe tbody tr th {\n",
       "        vertical-align: top;\n",
       "    }\n",
       "\n",
       "    .dataframe thead th {\n",
       "        text-align: right;\n",
       "    }\n",
       "</style>\n",
       "<table border=\"1\" class=\"dataframe\">\n",
       "  <thead>\n",
       "    <tr style=\"text-align: right;\">\n",
       "      <th></th>\n",
       "      <th>category</th>\n",
       "      <th>value</th>\n",
       "      <th>date</th>\n",
       "    </tr>\n",
       "  </thead>\n",
       "  <tbody>\n",
       "    <tr>\n",
       "      <th>0</th>\n",
       "      <td>A</td>\n",
       "      <td>10</td>\n",
       "      <td>2025-08-01</td>\n",
       "    </tr>\n",
       "    <tr>\n",
       "      <th>1</th>\n",
       "      <td>B</td>\n",
       "      <td>15</td>\n",
       "      <td>2025-08-02</td>\n",
       "    </tr>\n",
       "    <tr>\n",
       "      <th>2</th>\n",
       "      <td>A</td>\n",
       "      <td>12</td>\n",
       "      <td>2025-08-03</td>\n",
       "    </tr>\n",
       "    <tr>\n",
       "      <th>3</th>\n",
       "      <td>B</td>\n",
       "      <td>18</td>\n",
       "      <td>2025-08-04</td>\n",
       "    </tr>\n",
       "    <tr>\n",
       "      <th>4</th>\n",
       "      <td>C</td>\n",
       "      <td>25</td>\n",
       "      <td>2025-08-05</td>\n",
       "    </tr>\n",
       "  </tbody>\n",
       "</table>\n",
       "</div>"
      ],
      "text/plain": [
       "  category  value        date\n",
       "0        A     10  2025-08-01\n",
       "1        B     15  2025-08-02\n",
       "2        A     12  2025-08-03\n",
       "3        B     18  2025-08-04\n",
       "4        C     25  2025-08-05"
      ]
     },
     "execution_count": 6,
     "metadata": {},
     "output_type": "execute_result"
    }
   ],
   "source": [
    "import pandas as pd\n",
    "path = \"/Users/zhaotanji/Desktop/starter_data.csv\"\n",
    "df = pd.read_csv(path)\n",
    "df.info()\n",
    "df.head()"
   ]
  },
  {
   "cell_type": "code",
   "execution_count": null,
   "id": "06702cd8-79a3-431f-870a-7244a414b094",
   "metadata": {},
   "outputs": [],
   "source": [
    "3. summary statistics"
   ]
  },
  {
   "cell_type": "code",
   "execution_count": 13,
   "id": "19c27bab-4500-47b1-8aee-069fbf343aa4",
   "metadata": {},
   "outputs": [
    {
     "data": {
      "text/html": [
       "<div>\n",
       "<style scoped>\n",
       "    .dataframe tbody tr th:only-of-type {\n",
       "        vertical-align: middle;\n",
       "    }\n",
       "\n",
       "    .dataframe tbody tr th {\n",
       "        vertical-align: top;\n",
       "    }\n",
       "\n",
       "    .dataframe thead th {\n",
       "        text-align: right;\n",
       "    }\n",
       "</style>\n",
       "<table border=\"1\" class=\"dataframe\">\n",
       "  <thead>\n",
       "    <tr style=\"text-align: right;\">\n",
       "      <th></th>\n",
       "      <th>value</th>\n",
       "    </tr>\n",
       "  </thead>\n",
       "  <tbody>\n",
       "    <tr>\n",
       "      <th>count</th>\n",
       "      <td>10.000000</td>\n",
       "    </tr>\n",
       "    <tr>\n",
       "      <th>mean</th>\n",
       "      <td>17.600000</td>\n",
       "    </tr>\n",
       "    <tr>\n",
       "      <th>std</th>\n",
       "      <td>7.381659</td>\n",
       "    </tr>\n",
       "    <tr>\n",
       "      <th>min</th>\n",
       "      <td>10.000000</td>\n",
       "    </tr>\n",
       "    <tr>\n",
       "      <th>25%</th>\n",
       "      <td>12.250000</td>\n",
       "    </tr>\n",
       "    <tr>\n",
       "      <th>50%</th>\n",
       "      <td>14.500000</td>\n",
       "    </tr>\n",
       "    <tr>\n",
       "      <th>75%</th>\n",
       "      <td>23.250000</td>\n",
       "    </tr>\n",
       "    <tr>\n",
       "      <th>max</th>\n",
       "      <td>30.000000</td>\n",
       "    </tr>\n",
       "  </tbody>\n",
       "</table>\n",
       "</div>"
      ],
      "text/plain": [
       "           value\n",
       "count  10.000000\n",
       "mean   17.600000\n",
       "std     7.381659\n",
       "min    10.000000\n",
       "25%    12.250000\n",
       "50%    14.500000\n",
       "75%    23.250000\n",
       "max    30.000000"
      ]
     },
     "execution_count": 13,
     "metadata": {},
     "output_type": "execute_result"
    }
   ],
   "source": [
    "# .describe for numeric columns\n",
    "df.describe()"
   ]
  },
  {
   "cell_type": "code",
   "execution_count": 17,
   "id": "e07abc65-5f2c-4a1d-b9bb-8792f056c35c",
   "metadata": {},
   "outputs": [
    {
     "data": {
      "text/html": [
       "<div>\n",
       "<style scoped>\n",
       "    .dataframe tbody tr th:only-of-type {\n",
       "        vertical-align: middle;\n",
       "    }\n",
       "\n",
       "    .dataframe tbody tr th {\n",
       "        vertical-align: top;\n",
       "    }\n",
       "\n",
       "    .dataframe thead th {\n",
       "        text-align: right;\n",
       "    }\n",
       "</style>\n",
       "<table border=\"1\" class=\"dataframe\">\n",
       "  <thead>\n",
       "    <tr style=\"text-align: right;\">\n",
       "      <th></th>\n",
       "      <th>mean</th>\n",
       "      <th>sum</th>\n",
       "      <th>count</th>\n",
       "    </tr>\n",
       "    <tr>\n",
       "      <th>category</th>\n",
       "      <th></th>\n",
       "      <th></th>\n",
       "      <th></th>\n",
       "    </tr>\n",
       "  </thead>\n",
       "  <tbody>\n",
       "    <tr>\n",
       "      <th>A</th>\n",
       "      <td>11.500000</td>\n",
       "      <td>46</td>\n",
       "      <td>4</td>\n",
       "    </tr>\n",
       "    <tr>\n",
       "      <th>B</th>\n",
       "      <td>15.666667</td>\n",
       "      <td>47</td>\n",
       "      <td>3</td>\n",
       "    </tr>\n",
       "    <tr>\n",
       "      <th>C</th>\n",
       "      <td>27.666667</td>\n",
       "      <td>83</td>\n",
       "      <td>3</td>\n",
       "    </tr>\n",
       "  </tbody>\n",
       "</table>\n",
       "</div>"
      ],
      "text/plain": [
       "               mean  sum  count\n",
       "category                       \n",
       "A         11.500000   46      4\n",
       "B         15.666667   47      3\n",
       "C         27.666667   83      3"
      ]
     },
     "execution_count": 17,
     "metadata": {},
     "output_type": "execute_result"
    }
   ],
   "source": [
    "# .groupby() aggregation\n",
    "df.groupby(\"category\")[\"value\"].agg([\"mean\", \"sum\", \"count\"])"
   ]
  },
  {
   "cell_type": "markdown",
   "id": "09721964-fd93-4ad2-85dc-78cd5b469f07",
   "metadata": {},
   "source": [
    "4. save and plot"
   ]
  },
  {
   "cell_type": "code",
   "execution_count": 26,
   "id": "631cb0ec-fe6d-47a8-8535-6fb6ebf3fce9",
   "metadata": {},
   "outputs": [],
   "source": [
    "# save\n",
    "import pandas as pd\n",
    "summary = df.describe()\n",
    "grouped = df.groupby(\"category\")[\"value\"].agg([\"mean\", \"sum\", \"count\"])\n",
    "data_processed = pd.concat({\"summary\": summary, \"grouped\": grouped})\n",
    "data_processed.to_csv(\"/Users/zhaotanji/Desktop/data/data_processed_summary.csv\")"
   ]
  },
  {
   "cell_type": "code",
   "execution_count": 22,
   "id": "eb8847b6-c8c4-4ca2-a650-5cd81448e5f8",
   "metadata": {},
   "outputs": [
    {
     "data": {
      "image/png": "[encoded data removed]",
      "text/plain": [
       "<Figure size 1000x600 with 1 Axes>"
      ]
     },
     "metadata": {},
     "output_type": "display_data"
    }
   ],
   "source": [
    "#plot\n",
    "import matplotlib.pyplot as plt\n",
    "import matplotlib.pyplot as plt\n",
    "\n",
    "df[\"date\"] = pd.to_datetime(df[\"date\"])\n",
    "plt.figure(figsize=(10,6))\n",
    "\n",
    "for category, group in df.groupby(\"category\"):\n",
    "    plt.plot(group[\"date\"], group[\"value\"], marker=\"o\", label=category)\n",
    "\n",
    "plt.title(\"value over time by category\")\n",
    "plt.xlabel(\"date\")\n",
    "plt.ylabel(\"value\")\n",
    "plt.legend(title=\"category\")\n",
    "plt.grid(True)\n",
    "plt.savefig(\"/Users/zhaotanji/Desktop/data/data_value_plot.png\")\n",
    "plt.show()"
   ]
  },
  {
   "cell_type": "raw",
   "id": "512cfd33-a4c9-439c-a033-b2d572eace61",
   "metadata": {},
   "source": [
    "5. function"
   ]
  },
  {
   "cell_type": "code",
   "execution_count": 23,
   "id": "fae18a7b-87aa-47c7-862a-7c8063d93e5e",
   "metadata": {},
   "outputs": [],
   "source": [
    "def get_summary_stats(df):\n",
    "    \"\"\"\n",
    "    Calculate summary statistics and groupby aggregation for a dataframe.\n",
    "    \"\"\"\n",
    "\n",
    "    summary = df.describe(include=\"all\")\n",
    "    group_summary = df.groupby(\"category\")[\"value\"].mean()\n",
    "    \n",
    "    return summary, group_summary"
   ]
  }
 ],
 "metadata": {
  "kernelspec": {
   "display_name": "Python (fe-course)",
   "language": "python",
   "name": "fe-course"
  },
  "language_info": {
   "codemirror_mode": {
    "name": "ipython",
    "version": 3
   },
   "file_extension": ".py",
   "mimetype": "text/x-python",
   "name": "python",
   "nbconvert_exporter": "python",
   "pygments_lexer": "ipython3",
   "version": "3.11.13"
  }
 },
 "nbformat": 4,
 "nbformat_minor": 5
}
